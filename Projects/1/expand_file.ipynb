{
 "cells": [
  {
   "cell_type": "code",
   "execution_count": 2,
   "metadata": {},
   "outputs": [],
   "source": [
    "import pandas as pd\n",
    "import numpy as np\n",
    "from sklearn.utils import shuffle\n",
    "\n",
    "# Load the dataset\n",
    "file_path = \"interview_qna_scoring_dataset.csv\"\n",
    "data = pd.read_csv(file_path)\n",
    "\n",
    "# Function to generate synthetic data\n",
    "def generate_synthetic_data(original_data, expansion_factor):\n",
    "    synthetic_data = original_data.copy()\n",
    "    for _ in range(expansion_factor - 1):\n",
    "        # Shuffle and perturb data slightly\n",
    "        shuffled_data = shuffle(original_data)\n",
    "        # Perturbing Answer_Score by adding small random noise\n",
    "        shuffled_data['Answer_Score'] = shuffled_data['Answer_Score'].apply(lambda x: max(1, min(100, x + np.random.randint(-10, 10))))\n",
    "        synthetic_data = pd.concat([synthetic_data, shuffled_data])\n",
    "    return synthetic_data\n",
    "\n",
    "# Generate a dataset 100 times larger\n",
    "\n",
    "expanded_data = generate_synthetic_data(data, 100)\n",
    "\n",
    "# Save the expanded dataset\n",
    "expanded_file_path = 'interview_qna_scoring_dataset_2.csv'\n",
    "expanded_data.to_csv(expanded_file_path, index=False)\n"
   ]
  },
  {
   "cell_type": "code",
   "execution_count": null,
   "metadata": {},
   "outputs": [],
   "source": []
  }
 ],
 "metadata": {
  "kernelspec": {
   "display_name": "satyam",
   "language": "python",
   "name": "python3"
  },
  "language_info": {
   "codemirror_mode": {
    "name": "ipython",
    "version": 3
   },
   "file_extension": ".py",
   "mimetype": "text/x-python",
   "name": "python",
   "nbconvert_exporter": "python",
   "pygments_lexer": "ipython3",
   "version": "3.11.4"
  }
 },
 "nbformat": 4,
 "nbformat_minor": 2
}
